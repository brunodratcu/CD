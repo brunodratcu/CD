{
 "cells": [
  {
   "cell_type": "markdown",
   "metadata": {},
   "source": [
    "___\n",
    "# PROJETO 1"
   ]
  },
  {
   "cell_type": "markdown",
   "metadata": {},
   "source": [
    "## <font color='green'>Bruno Dratcu</font>\n",
    "___"
   ]
  },
  {
   "cell_type": "markdown",
   "metadata": {},
   "source": [
    "## <font color='green'>Os aposentados estão melhores que o restante de população?</font>"
   ]
  },
  {
   "cell_type": "markdown",
   "metadata": {},
   "source": [
    "## Introdução\n",
    "\n",
    "Quais as diferenças entre os aposentados de hoje em dia e os que ainda irão se aposentar?\n",
    "\n",
    "lista para compreender:\n",
    " - aposentados de hoje em dia são aqueles com mais de 65 anos;\n",
    " - ver o curso mais elevado desses aposentados comparando quando eles começaram a trabalhar, a partir dai vamos ver suas rendas\n",
    " \n",
    " - após analisa-los, veremos os cursos mais elevados dos que irão se aposentar ainda;\n",
    " - comparar curso mais elevado deles, vemos as difernças dos aposentados, e ver quando eles começaram a trabalhar\n",
    " - pegarems suas rendas e comparar com os aposentados \n",
    " \n",
    " - pegar a região na qual tem maior população de aposentados, e ver seus cursos mais elevados em que frequentaram\n"
   ]
  },
  {
   "cell_type": "markdown",
   "metadata": {},
   "source": [
    "___\n",
    "## Análise e Resultados"
   ]
  },
  {
   "cell_type": "markdown",
   "metadata": {},
   "source": [
    "##NOTAS:\n",
    "\n",
    "UF ; Unidade de Federação\n",
    "V8005;3 ;Idade do morador \n",
    "V0302;2 ;Sexo\n",
    "V6002;1 ;Rede de ensino \n",
    "V6007;2 ;Curso mais elevado que frequentou anteriormente \n",
    "V9891;1 ;Faixa de idade em que começou a trabalhar \n",
    "V4706;2 ;Posição na ocupação no trabalho principal \n",
    "V4707;1 ;Horas habitualmente trabalhadas por semana em todos os trabalhos \n",
    "V4719;12; Rendimento mensal de todos os trabalhos para pessoas de 10 anos ou mais de idade "
   ]
  },
  {
   "cell_type": "code",
   "execution_count": 1,
   "metadata": {
    "collapsed": true
   },
   "outputs": [],
   "source": [
    "%matplotlib inline\n",
    "import pandas as pd\n",
    "import matplotlib.pyplot as plt\n",
    "from numpy import arange\n",
    "import os\n"
   ]
  },
  {
   "cell_type": "code",
   "execution_count": 2,
   "metadata": {
    "collapsed": false
   },
   "outputs": [
    {
     "name": "stdout",
     "output_type": "stream",
     "text": [
      "Esperamos trabalhar no diretório\n",
      "C:\\Users\\Bruno Dratcu\\Desktop\\2o Semestre\\Ciencia dos Dados\\CD\\Projeto1\n"
     ]
    }
   ],
   "source": [
    "print('Esperamos trabalhar no diretório')\n",
    "print(os.getcwd())"
   ]
  },
  {
   "cell_type": "code",
   "execution_count": 3,
   "metadata": {
    "collapsed": false
   },
   "outputs": [],
   "source": [
    "\"\"\"Vamos ler a estrutura da PNAD como um dataframe.\n",
    "    São muitas colunas e precisamos usar a informação de tamanho para ler a PNAD de fato\n",
    "    como uma base de tamanho fixo\"\"\"\n",
    "estrutura = pd.read_table(\"pes_py.txt\", sep=\";\")"
   ]
  },
  {
   "cell_type": "code",
   "execution_count": 4,
   "metadata": {
    "collapsed": false
   },
   "outputs": [
    {
     "data": {
      "text/html": [
       "<div>\n",
       "<table border=\"1\" class=\"dataframe\">\n",
       "  <thead>\n",
       "    <tr style=\"text-align: right;\">\n",
       "      <th></th>\n",
       "      <th>Coluna</th>\n",
       "      <th>Tamanho</th>\n",
       "      <th>Título</th>\n",
       "    </tr>\n",
       "  </thead>\n",
       "  <tbody>\n",
       "    <tr>\n",
       "      <th>0</th>\n",
       "      <td>V0101</td>\n",
       "      <td>4</td>\n",
       "      <td>Ano de referência</td>\n",
       "    </tr>\n",
       "    <tr>\n",
       "      <th>1</th>\n",
       "      <td>UF</td>\n",
       "      <td>2</td>\n",
       "      <td>Unidade da Federação</td>\n",
       "    </tr>\n",
       "    <tr>\n",
       "      <th>2</th>\n",
       "      <td>V0102</td>\n",
       "      <td>6</td>\n",
       "      <td>Número de controle</td>\n",
       "    </tr>\n",
       "    <tr>\n",
       "      <th>3</th>\n",
       "      <td>V0103</td>\n",
       "      <td>3</td>\n",
       "      <td>Número de série</td>\n",
       "    </tr>\n",
       "    <tr>\n",
       "      <th>4</th>\n",
       "      <td>V0301</td>\n",
       "      <td>2</td>\n",
       "      <td>Número de ordem</td>\n",
       "    </tr>\n",
       "  </tbody>\n",
       "</table>\n",
       "</div>"
      ],
      "text/plain": [
       "  Coluna  Tamanho                Título\n",
       "0  V0101        4     Ano de referência\n",
       "1     UF        2  Unidade da Federação\n",
       "2  V0102        6    Número de controle\n",
       "3  V0103        3       Número de série\n",
       "4  V0301        2       Número de ordem"
      ]
     },
     "execution_count": 4,
     "metadata": {},
     "output_type": "execute_result"
    }
   ],
   "source": [
    "estrutura.head()"
   ]
  },
  {
   "cell_type": "code",
   "execution_count": 5,
   "metadata": {
    "collapsed": false
   },
   "outputs": [],
   "source": [
    "# Se quiser uma leitura mais rápida, use o arquivo descompactado. Não esqueça de adicionar ao seu .gitignore\n",
    "pnad2014 = pd.read_fwf(\"PES2014.txt\", widths=estrutura.Tamanho, header=None)\n",
    "\n",
    "# Se quiser economizar espaço, use o arquivo Zip\n",
    "#pnad2014 = pd.read_fwf(\"PES2014.zip\", widths=estrutura.Tamanho, header=None, compression=\"zip\")"
   ]
  },
  {
   "cell_type": "code",
   "execution_count": 6,
   "metadata": {
    "collapsed": false
   },
   "outputs": [
    {
     "data": {
      "text/html": [
       "<div>\n",
       "<table border=\"1\" class=\"dataframe\">\n",
       "  <thead>\n",
       "    <tr style=\"text-align: right;\">\n",
       "      <th></th>\n",
       "      <th>0</th>\n",
       "      <th>1</th>\n",
       "      <th>2</th>\n",
       "      <th>3</th>\n",
       "      <th>4</th>\n",
       "      <th>5</th>\n",
       "      <th>6</th>\n",
       "      <th>7</th>\n",
       "      <th>8</th>\n",
       "      <th>9</th>\n",
       "      <th>...</th>\n",
       "      <th>331</th>\n",
       "      <th>332</th>\n",
       "      <th>333</th>\n",
       "      <th>334</th>\n",
       "      <th>335</th>\n",
       "      <th>336</th>\n",
       "      <th>337</th>\n",
       "      <th>338</th>\n",
       "      <th>339</th>\n",
       "      <th>340</th>\n",
       "    </tr>\n",
       "  </thead>\n",
       "  <tbody>\n",
       "    <tr>\n",
       "      <th>0</th>\n",
       "      <td>2014</td>\n",
       "      <td>11</td>\n",
       "      <td>15</td>\n",
       "      <td>1</td>\n",
       "      <td>1</td>\n",
       "      <td>2</td>\n",
       "      <td>19</td>\n",
       "      <td>8</td>\n",
       "      <td>1987</td>\n",
       "      <td>27</td>\n",
       "      <td>...</td>\n",
       "      <td>3.0</td>\n",
       "      <td>500.0</td>\n",
       "      <td>3.0</td>\n",
       "      <td>3</td>\n",
       "      <td>1.0</td>\n",
       "      <td>2.0</td>\n",
       "      <td>2.0</td>\n",
       "      <td>1.0</td>\n",
       "      <td>500.0</td>\n",
       "      <td>20160623</td>\n",
       "    </tr>\n",
       "    <tr>\n",
       "      <th>1</th>\n",
       "      <td>2014</td>\n",
       "      <td>11</td>\n",
       "      <td>15</td>\n",
       "      <td>1</td>\n",
       "      <td>2</td>\n",
       "      <td>4</td>\n",
       "      <td>19</td>\n",
       "      <td>1</td>\n",
       "      <td>1986</td>\n",
       "      <td>28</td>\n",
       "      <td>...</td>\n",
       "      <td>3.0</td>\n",
       "      <td>500.0</td>\n",
       "      <td>3.0</td>\n",
       "      <td>4</td>\n",
       "      <td>2.0</td>\n",
       "      <td>NaN</td>\n",
       "      <td>2.0</td>\n",
       "      <td>1.0</td>\n",
       "      <td>500.0</td>\n",
       "      <td>20160623</td>\n",
       "    </tr>\n",
       "    <tr>\n",
       "      <th>2</th>\n",
       "      <td>2014</td>\n",
       "      <td>11</td>\n",
       "      <td>15</td>\n",
       "      <td>1</td>\n",
       "      <td>3</td>\n",
       "      <td>2</td>\n",
       "      <td>14</td>\n",
       "      <td>5</td>\n",
       "      <td>2013</td>\n",
       "      <td>1</td>\n",
       "      <td>...</td>\n",
       "      <td>3.0</td>\n",
       "      <td>500.0</td>\n",
       "      <td>3.0</td>\n",
       "      <td>1</td>\n",
       "      <td>NaN</td>\n",
       "      <td>NaN</td>\n",
       "      <td>NaN</td>\n",
       "      <td>NaN</td>\n",
       "      <td>500.0</td>\n",
       "      <td>20160623</td>\n",
       "    </tr>\n",
       "    <tr>\n",
       "      <th>3</th>\n",
       "      <td>2014</td>\n",
       "      <td>11</td>\n",
       "      <td>15</td>\n",
       "      <td>2</td>\n",
       "      <td>1</td>\n",
       "      <td>2</td>\n",
       "      <td>8</td>\n",
       "      <td>4</td>\n",
       "      <td>1963</td>\n",
       "      <td>51</td>\n",
       "      <td>...</td>\n",
       "      <td>2.0</td>\n",
       "      <td>1150.0</td>\n",
       "      <td>4.0</td>\n",
       "      <td>2</td>\n",
       "      <td>1.0</td>\n",
       "      <td>2.0</td>\n",
       "      <td>2.0</td>\n",
       "      <td>1.0</td>\n",
       "      <td>1150.0</td>\n",
       "      <td>20160623</td>\n",
       "    </tr>\n",
       "    <tr>\n",
       "      <th>4</th>\n",
       "      <td>2014</td>\n",
       "      <td>11</td>\n",
       "      <td>15</td>\n",
       "      <td>2</td>\n",
       "      <td>2</td>\n",
       "      <td>4</td>\n",
       "      <td>6</td>\n",
       "      <td>11</td>\n",
       "      <td>1970</td>\n",
       "      <td>43</td>\n",
       "      <td>...</td>\n",
       "      <td>2.0</td>\n",
       "      <td>1150.0</td>\n",
       "      <td>4.0</td>\n",
       "      <td>3</td>\n",
       "      <td>1.0</td>\n",
       "      <td>2.0</td>\n",
       "      <td>2.0</td>\n",
       "      <td>1.0</td>\n",
       "      <td>1150.0</td>\n",
       "      <td>20160623</td>\n",
       "    </tr>\n",
       "  </tbody>\n",
       "</table>\n",
       "<p>5 rows × 341 columns</p>\n",
       "</div>"
      ],
      "text/plain": [
       "    0    1    2    3    4    5    6    7     8    9      ...     331     332  \\\n",
       "0  2014   11   15    1    1    2   19    8  1987   27    ...     3.0   500.0   \n",
       "1  2014   11   15    1    2    4   19    1  1986   28    ...     3.0   500.0   \n",
       "2  2014   11   15    1    3    2   14    5  2013    1    ...     3.0   500.0   \n",
       "3  2014   11   15    2    1    2    8    4  1963   51    ...     2.0  1150.0   \n",
       "4  2014   11   15    2    2    4    6   11  1970   43    ...     2.0  1150.0   \n",
       "\n",
       "   333  334  335  336  337  338     339       340  \n",
       "0  3.0    3  1.0  2.0  2.0  1.0   500.0  20160623  \n",
       "1  3.0    4  2.0  NaN  2.0  1.0   500.0  20160623  \n",
       "2  3.0    1  NaN  NaN  NaN  NaN   500.0  20160623  \n",
       "3  4.0    2  1.0  2.0  2.0  1.0  1150.0  20160623  \n",
       "4  4.0    3  1.0  2.0  2.0  1.0  1150.0  20160623  \n",
       "\n",
       "[5 rows x 341 columns]"
      ]
     },
     "execution_count": 6,
     "metadata": {},
     "output_type": "execute_result"
    }
   ],
   "source": [
    "pnad2014.head()"
   ]
  },
  {
   "cell_type": "code",
   "execution_count": 7,
   "metadata": {
    "collapsed": false
   },
   "outputs": [
    {
     "data": {
      "text/plain": [
       "Index(['Coluna', 'Tamanho', 'Título'], dtype='object')"
      ]
     },
     "execution_count": 7,
     "metadata": {},
     "output_type": "execute_result"
    }
   ],
   "source": [
    "estrutura.columns"
   ]
  },
  {
   "cell_type": "code",
   "execution_count": 8,
   "metadata": {
    "collapsed": false
   },
   "outputs": [],
   "source": [
    "pnad2014.columns = estrutura.Coluna"
   ]
  },
  {
   "cell_type": "code",
   "execution_count": 9,
   "metadata": {
    "collapsed": false
   },
   "outputs": [
    {
     "data": {
      "text/html": [
       "<div>\n",
       "<table border=\"1\" class=\"dataframe\">\n",
       "  <thead>\n",
       "    <tr style=\"text-align: right;\">\n",
       "      <th>Coluna</th>\n",
       "      <th>V0101</th>\n",
       "      <th>UF</th>\n",
       "      <th>V0102</th>\n",
       "      <th>V0103</th>\n",
       "      <th>V0301</th>\n",
       "      <th>V0302</th>\n",
       "      <th>V3031</th>\n",
       "      <th>V3032</th>\n",
       "      <th>V3033</th>\n",
       "      <th>V8005</th>\n",
       "      <th>...</th>\n",
       "      <th>V4741</th>\n",
       "      <th>V4742</th>\n",
       "      <th>V4743</th>\n",
       "      <th>V4745</th>\n",
       "      <th>V4746</th>\n",
       "      <th>V4747</th>\n",
       "      <th>V4748</th>\n",
       "      <th>V4749</th>\n",
       "      <th>V4750</th>\n",
       "      <th>V9993</th>\n",
       "    </tr>\n",
       "  </thead>\n",
       "  <tbody>\n",
       "    <tr>\n",
       "      <th>0</th>\n",
       "      <td>2014</td>\n",
       "      <td>11</td>\n",
       "      <td>15</td>\n",
       "      <td>1</td>\n",
       "      <td>1</td>\n",
       "      <td>2</td>\n",
       "      <td>19</td>\n",
       "      <td>8</td>\n",
       "      <td>1987</td>\n",
       "      <td>27</td>\n",
       "      <td>...</td>\n",
       "      <td>3.0</td>\n",
       "      <td>500.0</td>\n",
       "      <td>3.0</td>\n",
       "      <td>3</td>\n",
       "      <td>1.0</td>\n",
       "      <td>2.0</td>\n",
       "      <td>2.0</td>\n",
       "      <td>1.0</td>\n",
       "      <td>500.0</td>\n",
       "      <td>20160623</td>\n",
       "    </tr>\n",
       "    <tr>\n",
       "      <th>1</th>\n",
       "      <td>2014</td>\n",
       "      <td>11</td>\n",
       "      <td>15</td>\n",
       "      <td>1</td>\n",
       "      <td>2</td>\n",
       "      <td>4</td>\n",
       "      <td>19</td>\n",
       "      <td>1</td>\n",
       "      <td>1986</td>\n",
       "      <td>28</td>\n",
       "      <td>...</td>\n",
       "      <td>3.0</td>\n",
       "      <td>500.0</td>\n",
       "      <td>3.0</td>\n",
       "      <td>4</td>\n",
       "      <td>2.0</td>\n",
       "      <td>NaN</td>\n",
       "      <td>2.0</td>\n",
       "      <td>1.0</td>\n",
       "      <td>500.0</td>\n",
       "      <td>20160623</td>\n",
       "    </tr>\n",
       "    <tr>\n",
       "      <th>2</th>\n",
       "      <td>2014</td>\n",
       "      <td>11</td>\n",
       "      <td>15</td>\n",
       "      <td>1</td>\n",
       "      <td>3</td>\n",
       "      <td>2</td>\n",
       "      <td>14</td>\n",
       "      <td>5</td>\n",
       "      <td>2013</td>\n",
       "      <td>1</td>\n",
       "      <td>...</td>\n",
       "      <td>3.0</td>\n",
       "      <td>500.0</td>\n",
       "      <td>3.0</td>\n",
       "      <td>1</td>\n",
       "      <td>NaN</td>\n",
       "      <td>NaN</td>\n",
       "      <td>NaN</td>\n",
       "      <td>NaN</td>\n",
       "      <td>500.0</td>\n",
       "      <td>20160623</td>\n",
       "    </tr>\n",
       "    <tr>\n",
       "      <th>3</th>\n",
       "      <td>2014</td>\n",
       "      <td>11</td>\n",
       "      <td>15</td>\n",
       "      <td>2</td>\n",
       "      <td>1</td>\n",
       "      <td>2</td>\n",
       "      <td>8</td>\n",
       "      <td>4</td>\n",
       "      <td>1963</td>\n",
       "      <td>51</td>\n",
       "      <td>...</td>\n",
       "      <td>2.0</td>\n",
       "      <td>1150.0</td>\n",
       "      <td>4.0</td>\n",
       "      <td>2</td>\n",
       "      <td>1.0</td>\n",
       "      <td>2.0</td>\n",
       "      <td>2.0</td>\n",
       "      <td>1.0</td>\n",
       "      <td>1150.0</td>\n",
       "      <td>20160623</td>\n",
       "    </tr>\n",
       "    <tr>\n",
       "      <th>4</th>\n",
       "      <td>2014</td>\n",
       "      <td>11</td>\n",
       "      <td>15</td>\n",
       "      <td>2</td>\n",
       "      <td>2</td>\n",
       "      <td>4</td>\n",
       "      <td>6</td>\n",
       "      <td>11</td>\n",
       "      <td>1970</td>\n",
       "      <td>43</td>\n",
       "      <td>...</td>\n",
       "      <td>2.0</td>\n",
       "      <td>1150.0</td>\n",
       "      <td>4.0</td>\n",
       "      <td>3</td>\n",
       "      <td>1.0</td>\n",
       "      <td>2.0</td>\n",
       "      <td>2.0</td>\n",
       "      <td>1.0</td>\n",
       "      <td>1150.0</td>\n",
       "      <td>20160623</td>\n",
       "    </tr>\n",
       "  </tbody>\n",
       "</table>\n",
       "<p>5 rows × 341 columns</p>\n",
       "</div>"
      ],
      "text/plain": [
       "Coluna  V0101  UF  V0102  V0103  V0301  V0302  V3031  V3032  V3033  V8005  \\\n",
       "0        2014  11     15      1      1      2     19      8   1987     27   \n",
       "1        2014  11     15      1      2      4     19      1   1986     28   \n",
       "2        2014  11     15      1      3      2     14      5   2013      1   \n",
       "3        2014  11     15      2      1      2      8      4   1963     51   \n",
       "4        2014  11     15      2      2      4      6     11   1970     43   \n",
       "\n",
       "Coluna    ...     V4741   V4742  V4743  V4745  V4746  V4747  V4748  V4749  \\\n",
       "0         ...       3.0   500.0    3.0      3    1.0    2.0    2.0    1.0   \n",
       "1         ...       3.0   500.0    3.0      4    2.0    NaN    2.0    1.0   \n",
       "2         ...       3.0   500.0    3.0      1    NaN    NaN    NaN    NaN   \n",
       "3         ...       2.0  1150.0    4.0      2    1.0    2.0    2.0    1.0   \n",
       "4         ...       2.0  1150.0    4.0      3    1.0    2.0    2.0    1.0   \n",
       "\n",
       "Coluna   V4750     V9993  \n",
       "0        500.0  20160623  \n",
       "1        500.0  20160623  \n",
       "2        500.0  20160623  \n",
       "3       1150.0  20160623  \n",
       "4       1150.0  20160623  \n",
       "\n",
       "[5 rows x 341 columns]"
      ]
     },
     "execution_count": 9,
     "metadata": {},
     "output_type": "execute_result"
    }
   ],
   "source": [
    "pnad2014.head()"
   ]
  },
  {
   "cell_type": "code",
   "execution_count": 10,
   "metadata": {
    "collapsed": false
   },
   "outputs": [],
   "source": [
    "tabela = pnad2014.loc[:, [\"UF\", \"V8005\", \"V0302\", \"V6002\", \"V6007\", \"V9891\", \"V4706\", \"V4707\", \"V4719\"]]\n",
    "\n",
    "#tabela"
   ]
  },
  {
   "cell_type": "code",
   "execution_count": 11,
   "metadata": {
    "collapsed": false
   },
   "outputs": [],
   "source": [
    "escolhas = pd.DataFrame()\n",
    "\n",
    "escolhas[\"Idade\"] = tabela.V8005\n",
    "escolhas[\"Sexo\"] = tabela.V0302\n",
    "#escolhas[\"Aposentados\"] = tabela.V9122\n",
    "escolhas[\"Rede de ensino\"] = tabela.V6002\n",
    "escolhas[\"Curso mais elevado que frequentou\"] = tabela.V6007\n",
    "escolhas[\"Faixa de idade em que começou a trabalhar\"] = tabela.V9891\n",
    "escolhas[\"Posição no trabalho\"] = tabela.V4706\n",
    "escolhas[\"Horas habitualmente trabalhadas por semana\"] = tabela.V4707\n",
    "escolhas[\"Rendimento\"] = tabela.V4719\n",
    "\n",
    "#escolhas"
   ]
  },
  {
   "cell_type": "code",
   "execution_count": 95,
   "metadata": {
    "collapsed": false
   },
   "outputs": [
    {
     "name": "stderr",
     "output_type": "stream",
     "text": [
      "C:\\Users\\Bruno Dratcu\\Anaconda3\\lib\\site-packages\\ipykernel\\__main__.py:9: SettingWithCopyWarning: \n",
      "A value is trying to be set on a copy of a slice from a DataFrame\n",
      "\n",
      "See the caveats in the documentation: http://pandas.pydata.org/pandas-docs/stable/indexing.html#indexing-view-versus-copy\n",
      "C:\\Users\\Bruno Dratcu\\Anaconda3\\lib\\site-packages\\ipykernel\\__main__.py:10: SettingWithCopyWarning: \n",
      "A value is trying to be set on a copy of a slice from a DataFrame\n",
      "\n",
      "See the caveats in the documentation: http://pandas.pydata.org/pandas-docs/stable/indexing.html#indexing-view-versus-copy\n",
      "C:\\Users\\Bruno Dratcu\\Anaconda3\\lib\\site-packages\\ipykernel\\__main__.py:11: SettingWithCopyWarning: \n",
      "A value is trying to be set on a copy of a slice from a DataFrame\n",
      "\n",
      "See the caveats in the documentation: http://pandas.pydata.org/pandas-docs/stable/indexing.html#indexing-view-versus-copy\n",
      "C:\\Users\\Bruno Dratcu\\Anaconda3\\lib\\site-packages\\ipykernel\\__main__.py:12: SettingWithCopyWarning: \n",
      "A value is trying to be set on a copy of a slice from a DataFrame\n",
      "\n",
      "See the caveats in the documentation: http://pandas.pydata.org/pandas-docs/stable/indexing.html#indexing-view-versus-copy\n",
      "C:\\Users\\Bruno Dratcu\\Anaconda3\\lib\\site-packages\\ipykernel\\__main__.py:13: SettingWithCopyWarning: \n",
      "A value is trying to be set on a copy of a slice from a DataFrame\n",
      "\n",
      "See the caveats in the documentation: http://pandas.pydata.org/pandas-docs/stable/indexing.html#indexing-view-versus-copy\n",
      "C:\\Users\\Bruno Dratcu\\Anaconda3\\lib\\site-packages\\ipykernel\\__main__.py:17: SettingWithCopyWarning: \n",
      "A value is trying to be set on a copy of a slice from a DataFrame\n",
      "\n",
      "See the caveats in the documentation: http://pandas.pydata.org/pandas-docs/stable/indexing.html#indexing-view-versus-copy\n",
      "C:\\Users\\Bruno Dratcu\\Anaconda3\\lib\\site-packages\\ipykernel\\__main__.py:18: SettingWithCopyWarning: \n",
      "A value is trying to be set on a copy of a slice from a DataFrame\n",
      "\n",
      "See the caveats in the documentation: http://pandas.pydata.org/pandas-docs/stable/indexing.html#indexing-view-versus-copy\n",
      "C:\\Users\\Bruno Dratcu\\Anaconda3\\lib\\site-packages\\ipykernel\\__main__.py:19: SettingWithCopyWarning: \n",
      "A value is trying to be set on a copy of a slice from a DataFrame\n",
      "\n",
      "See the caveats in the documentation: http://pandas.pydata.org/pandas-docs/stable/indexing.html#indexing-view-versus-copy\n",
      "C:\\Users\\Bruno Dratcu\\Anaconda3\\lib\\site-packages\\ipykernel\\__main__.py:20: SettingWithCopyWarning: \n",
      "A value is trying to be set on a copy of a slice from a DataFrame\n",
      "\n",
      "See the caveats in the documentation: http://pandas.pydata.org/pandas-docs/stable/indexing.html#indexing-view-versus-copy\n",
      "C:\\Users\\Bruno Dratcu\\Anaconda3\\lib\\site-packages\\ipykernel\\__main__.py:24: SettingWithCopyWarning: \n",
      "A value is trying to be set on a copy of a slice from a DataFrame\n",
      "\n",
      "See the caveats in the documentation: http://pandas.pydata.org/pandas-docs/stable/indexing.html#indexing-view-versus-copy\n",
      "C:\\Users\\Bruno Dratcu\\Anaconda3\\lib\\site-packages\\ipykernel\\__main__.py:25: SettingWithCopyWarning: \n",
      "A value is trying to be set on a copy of a slice from a DataFrame\n",
      "\n",
      "See the caveats in the documentation: http://pandas.pydata.org/pandas-docs/stable/indexing.html#indexing-view-versus-copy\n",
      "C:\\Users\\Bruno Dratcu\\Anaconda3\\lib\\site-packages\\ipykernel\\__main__.py:29: SettingWithCopyWarning: \n",
      "A value is trying to be set on a copy of a slice from a DataFrame\n",
      "\n",
      "See the caveats in the documentation: http://pandas.pydata.org/pandas-docs/stable/indexing.html#indexing-view-versus-copy\n",
      "C:\\Users\\Bruno Dratcu\\Anaconda3\\lib\\site-packages\\ipykernel\\__main__.py:31: SettingWithCopyWarning: \n",
      "A value is trying to be set on a copy of a slice from a DataFrame\n",
      "\n",
      "See the caveats in the documentation: http://pandas.pydata.org/pandas-docs/stable/indexing.html#indexing-view-versus-copy\n"
     ]
    }
   ],
   "source": [
    "n = len(tabela)\n",
    "tabela.Regiões = pd.Series([\"\"]*n)\n",
    "tabela.Maturidade = pd.Series([\"\"]*n)\n",
    "tabela.Intelectualidade = pd.Series([\"\"]*n)\n",
    "tabela.Geracao = pd.Series([\"\"]*n)\n",
    "\n",
    "\n",
    "escolhas[\"Regiões\"] = tabela.UF\n",
    "norte = escolhas.Regiões[(tabela.UF>=11) & (tabela.UF<=17)] = \"Norte\"\n",
    "nordeste = escolhas.Regiões[(tabela.UF>=21) & (tabela.UF<=29)] = \"Nordeste\"\n",
    "sudeste = escolhas.Regiões[(tabela.UF>=31) & (tabela.UF<=35)] = \"Sudeste\"\n",
    "sul = escolhas.Regiões[(tabela.UF>=41) & (tabela.UF<=43)] = \"Sul\"\n",
    "centro_oeste = escolhas.Regiões[(tabela.UF>=50) & (tabela.UF<=53)] = \"Centro-Oeste\"\n",
    "\n",
    "\n",
    "escolhas[\"Começou a trabalhar\"] = tabela.V9891\n",
    "maturo = escolhas[\"Começou a trabalhar\"][(tabela.V9891>=5) & (tabela.V9891<=6)] = \"Começou a trabalhar entre 20 a 29 anos\"\n",
    "imaturo = escolhas[\"Começou a trabalhar\"][(tabela.V9891>=1) & (tabela.V9891<=4)] = \"Começou a trabalhar entre 9 a 19 anos\"\n",
    "velhos_maturos = escolhas[\"Começou a trabalhar\"][(escolhas.Geracao==velhos)|((tabela.V9891>=5) & (tabela.V9891<=6))] = \"Aposentados que começaram a trabalhar entre 20 a 29 anos\"\n",
    "adultos_maturos = escolhas[\"Começou a trabalhar\"][(escolhas.Geracao==adultos)|((tabela.V9891>=1) & (tabela.V9891<=4))] = \"Adultos que começaram a trabalhar entre 9 a 19 anos\"\n",
    "\n",
    "\n",
    "escolhas[\"Curso mais elevado\"] = tabela.V6007\n",
    "intelectual = escolhas[\"Curso mais elevado\"][(tabela.V6007==5)|((tabela.V6007>=7) & (tabela.V6007<=9))] = \"Estudos acima do E.M. completo\"\n",
    "nao_intelectual = escolhas[\"Curso mais elevado\"][(tabela.V6007==6)|((tabela.V6007<=4) & (tabela.V6007>=10))] = \"Estudos abaixo do E.M.\"\n",
    "\n",
    "\n",
    "escolhas[\"Geração\"] = tabela.V8005\n",
    "adultos = escolhas[\"Geração\"][(tabela.V8005>=23) & (tabela.V8005<=50)] = \"Adultos (entre 23 e 50 anos)\"\n",
    "#adultos_espertos = escolhas[\"Geração\"][(escolhas[\"Curso mais elevado\"]==intelectual)|((tabela.V8005>=23) & (tabela.V8005<=50))] = \"Adultos com estudos acima do E.M. completo\"\n",
    "velhos = escolhas[\"Geração\"][(tabela.V8005>50) & (tabela.V8005<=100)] = \"Idosos (de 50 para cima)\"\n",
    "#velha_geracao = escolhas[\"Geração\"][(escolhas[\"Curso mais elevado\"]==intelectual)|((tabela.V8005>50) & (tabela.V8005<=100))] = \"Aposentados com estudos acima do E.M. completo\""
   ]
  },
  {
   "cell_type": "code",
   "execution_count": 88,
   "metadata": {
    "collapsed": false
   },
   "outputs": [],
   "source": [
    "escolhas.UF = tabela.UF.astype('category')\n",
    "escolhas.UF.cat.categories = ('Rondônia', 'Acre', 'Amazonas', 'Roraima', 'Pará',\n",
    "                              'Amapá', 'Tocantins', 'Maranhão','Piauí', 'Ceará',\n",
    "                              'Rio Grande do Norte','Paraíba', 'Pernambuco', 'Alagoas', \n",
    "                              'Sergipe', 'Bahia', 'Minas Gerais', 'Espírito Santo', \n",
    "                              'Rio de Janeiro', 'São Paulo', 'Paraná', 'Santa Catarina', \n",
    "                              'Rio Grande do Sul','Mato Grosso do Sul', 'Mato Grosso', 'Goiás', \n",
    "                              'Distrito Federal')\n",
    "\n",
    "escolhas.idade = tabela.V8005.astype('category')\n",
    "#tabela.idade.cat.categories = ()\n",
    "\n",
    "escolhas.sexo = tabela.V6002.astype('category')\n",
    "escolhas.sexo.cat.categories = (\"Homem\", \"Mulher\")\n",
    "\n",
    "#escolhas.aposentados = tabela.V9122.astype('category')\n",
    "#tabela.idade.cat.categories = (\"Sim\", \"Nao\")\n",
    "\n",
    "escolhas.rede_de_ensino = tabela.V6002.astype('category')\n",
    "escolhas.rede_de_ensino.cat.categories = (\"Pública\", \"Privada\")\n",
    "\n",
    "escolhas.curso_mais_elevado = tabela.V6007.astype('category')\n",
    "escolhas.curso_mais_elevado.cat.categories = ('Elementar', 'Médio 1o ciclo', 'Médio 2o ciclo', 'Regular do E.F.',\n",
    "                                            'Regular do E.M.', 'Supletivo do E.F.', 'Supletivo do E.M.', 'ensino superior',\n",
    "                                            'Mestrado/doutorado', 'Alfabetização (jovens/adultos)', 'Creches', \n",
    "                                            'Classe de alfabetização', 'Maternal/jardim') \n",
    "\n",
    "escolhas.comecou_trabalho = tabela.V9891.astype('category')\n",
    "escolhas.comecou_trabalho.cat.categories = (\"Até 9 anos\", \"10 a 14 anos\", \"15 a 17 anos\",\n",
    "                                          \"18 a 19 anos\", \"20 a 24 anos\", \"25 a 29 anos\",\n",
    "                                          \"30 anos ou mais\") \n",
    "\n",
    "escolhas.posicao_trabalho = tabela.V4706.astype('category')\n",
    "escolhas.posicao_trabalho.cat.categories = ('Empregado com carteira de trabalho', 'Militar', 'Funcionário público',\n",
    "                                          'Empregado sem carteira', 'Trabalhador doméstico com carteira', 'Trabalhador doméstico sem carteira', \n",
    "                                          'Conta própria', 'Empregador', 'Trabalhador na produção para o próprio consumo', 'Trabalhador na construção para o próprio uso',\n",
    "                                          'Não remunerado')\n",
    "\n",
    "escolhas.horas_trabalhadas = tabela.V4707.astype('category')\n",
    "escolhas.horas_trabalhadas.cat.categories = ('Até 14 horas', '15 - 39 horas', \n",
    "                                           '40 - 44 horas', '45 - 48 horas', \n",
    "                                           '49 horas ou mais')\n",
    "\n",
    "escolhas.rendimento_mensal = tabela.V4719.astype('category')\n",
    "#tabela.rendimento_mensal.cat.categories = ()\n",
    "\n",
    "#escolhas"
   ]
  },
  {
   "cell_type": "markdown",
   "metadata": {},
   "source": [
    "Estes graficos a seguir, são graficos de barra e pizza/torta, porém não são muito uteis na minha analise, por isso comentei, assim este documento não fica poluido"
   ]
  },
  {
   "cell_type": "code",
   "execution_count": null,
   "metadata": {
    "collapsed": false
   },
   "outputs": [],
   "source": [
    "reg = escolhas.Regiões.value_counts(True)*100\n",
    "#reg"
   ]
  },
  {
   "cell_type": "code",
   "execution_count": null,
   "metadata": {
    "collapsed": false
   },
   "outputs": [],
   "source": [
    "idade = escolhas.idade #.value_counts(True)#*1000\n",
    "#idade"
   ]
  },
  {
   "cell_type": "code",
   "execution_count": null,
   "metadata": {
    "collapsed": false
   },
   "outputs": [],
   "source": [
    "#idade.value_counts().plot.bar()"
   ]
  },
  {
   "cell_type": "code",
   "execution_count": null,
   "metadata": {
    "collapsed": false
   },
   "outputs": [],
   "source": [
    "#idade.value_counts().plot.pie()"
   ]
  },
  {
   "cell_type": "code",
   "execution_count": null,
   "metadata": {
    "collapsed": false
   },
   "outputs": [],
   "source": [
    "sexo = escolhas.sexo.value_counts(True)*100\n",
    "#sexo"
   ]
  },
  {
   "cell_type": "code",
   "execution_count": null,
   "metadata": {
    "collapsed": false
   },
   "outputs": [],
   "source": [
    "#plot = sexo.plot(kind='bar',title='Sexo',figsize=(6, 6), color=('pink','b'))\n",
    "#plt.ylabel('Freq.Relativa (em%)')"
   ]
  },
  {
   "cell_type": "code",
   "execution_count": null,
   "metadata": {
    "collapsed": false
   },
   "outputs": [],
   "source": [
    "#plot = sexo.plot(kind='pie',colors=('pink','b'),title='Sexo',autopct='%.1f',figsize=(6, 6))"
   ]
  },
  {
   "cell_type": "code",
   "execution_count": null,
   "metadata": {
    "collapsed": false
   },
   "outputs": [],
   "source": [
    "ensi = escolhas.rede_de_ensino.value_counts(True)*100\n",
    "#ensi"
   ]
  },
  {
   "cell_type": "code",
   "execution_count": null,
   "metadata": {
    "collapsed": false
   },
   "outputs": [],
   "source": [
    "#plot = ensi.plot(kind='bar',title='Rede de Ensino',figsize=(6, 6), color=(\"g\", \"gold\"))\n",
    "#plt.ylabel('Freq.Relativa (em%)')"
   ]
  },
  {
   "cell_type": "code",
   "execution_count": null,
   "metadata": {
    "collapsed": false
   },
   "outputs": [],
   "source": [
    "#plot = ensi.plot(kind='pie',colors=(\"g\", \"gold\"), title='Rede de Ensino',autopct='%.1f',figsize=(6, 6))"
   ]
  },
  {
   "cell_type": "code",
   "execution_count": null,
   "metadata": {
    "collapsed": false
   },
   "outputs": [],
   "source": [
    "curso = escolhas.curso_mais_elevado.value_counts(True)*100\n",
    "#curso"
   ]
  },
  {
   "cell_type": "code",
   "execution_count": null,
   "metadata": {
    "collapsed": false
   },
   "outputs": [],
   "source": [
    "#plot = curso.plot(kind='bar',title='Curso mais elevado',figsize=(6, 6)) #, color=(\"g\", \"gold\"))\n",
    "#plt.ylabel('Freq.Relativa (em%)')"
   ]
  },
  {
   "cell_type": "code",
   "execution_count": null,
   "metadata": {
    "collapsed": false
   },
   "outputs": [],
   "source": [
    "#plot = curso.plot(kind='pie', title='Curso mais elevado',autopct='%.1f',figsize=(6, 6))"
   ]
  },
  {
   "cell_type": "code",
   "execution_count": null,
   "metadata": {
    "collapsed": false
   },
   "outputs": [],
   "source": [
    "idade_trab = escolhas.comecou_trabalho.value_counts(True)*100\n",
    "#idade_trab"
   ]
  },
  {
   "cell_type": "code",
   "execution_count": null,
   "metadata": {
    "collapsed": false
   },
   "outputs": [],
   "source": [
    "#plot = idade_trab.plot(kind='bar',title='Idade em que começou a trabahar',figsize=(6, 6)) #, color=(\"g\", \"gold\"))\n",
    "#plt.ylabel('Freq.Relativa (em%)')"
   ]
  },
  {
   "cell_type": "code",
   "execution_count": null,
   "metadata": {
    "collapsed": false
   },
   "outputs": [],
   "source": [
    "#plot = idade_trab.plot(kind='pie', title='Idade em que começou a trabahar',autopct='%.1f',figsize=(6, 6))"
   ]
  },
  {
   "cell_type": "code",
   "execution_count": null,
   "metadata": {
    "collapsed": false
   },
   "outputs": [],
   "source": [
    "posi = escolhas.posicao_trabalho.value_counts(True)*100\n",
    "#posi"
   ]
  },
  {
   "cell_type": "code",
   "execution_count": null,
   "metadata": {
    "collapsed": false
   },
   "outputs": [],
   "source": [
    "#plot = posi.plot(kind='bar',title='Posição no trabalho',figsize=(6, 6)) #, color=(\"g\", \"gold\"))\n",
    "#plt.ylabel('Freq.Relativa (em%)')"
   ]
  },
  {
   "cell_type": "code",
   "execution_count": null,
   "metadata": {
    "collapsed": false
   },
   "outputs": [],
   "source": [
    "#plot = posi.plot(kind='pie', title='Posição no trabalho',autopct='%.1f',figsize=(6, 6))"
   ]
  },
  {
   "cell_type": "code",
   "execution_count": null,
   "metadata": {
    "collapsed": false
   },
   "outputs": [],
   "source": [
    "horas = escolhas.horas_trabalhadas.value_counts(True)*100\n",
    "#horas"
   ]
  },
  {
   "cell_type": "code",
   "execution_count": null,
   "metadata": {
    "collapsed": false
   },
   "outputs": [],
   "source": [
    "#plot = horas.plot(kind='bar',title='Horas trabalhadas',figsize=(6, 6)) #, color=(\"g\", \"gold\"))\n",
    "#plt.ylabel('Freq.Relativa (em%)')"
   ]
  },
  {
   "cell_type": "code",
   "execution_count": null,
   "metadata": {
    "collapsed": false
   },
   "outputs": [],
   "source": [
    "#plot = horas.plot(kind='pie', title='Horas trabalhadas',autopct='%.1f',figsize=(6, 6))"
   ]
  },
  {
   "cell_type": "code",
   "execution_count": null,
   "metadata": {
    "collapsed": false
   },
   "outputs": [],
   "source": [
    "rendi = escolhas[(escolhas.rendimento_mensal != 999999999999) & (~escolhas.rendimento_mensal.isnull())]\n",
    "#rendi.describe()"
   ]
  },
  {
   "cell_type": "code",
   "execution_count": 104,
   "metadata": {
    "collapsed": false
   },
   "outputs": [
    {
     "name": "stdout",
     "output_type": "stream",
     "text": [
      "Tabela Cruzada por Idade em que começou a trabalhar vs Curso mais elevado (em %):\n"
     ]
    },
    {
     "data": {
      "text/html": [
       "<div>\n",
       "<table border=\"1\" class=\"dataframe\">\n",
       "  <thead>\n",
       "    <tr style=\"text-align: right;\">\n",
       "      <th>Curso mais elevado</th>\n",
       "      <th>1.0</th>\n",
       "      <th>2.0</th>\n",
       "      <th>3.0</th>\n",
       "      <th>4.0</th>\n",
       "      <th>10.0</th>\n",
       "      <th>11.0</th>\n",
       "      <th>12.0</th>\n",
       "      <th>13.0</th>\n",
       "      <th>Estudos abaixo do E.M.</th>\n",
       "      <th>Estudos acima do E.M. completo</th>\n",
       "      <th>All</th>\n",
       "    </tr>\n",
       "    <tr>\n",
       "      <th>Idade em que começou a trabalhar</th>\n",
       "      <th></th>\n",
       "      <th></th>\n",
       "      <th></th>\n",
       "      <th></th>\n",
       "      <th></th>\n",
       "      <th></th>\n",
       "      <th></th>\n",
       "      <th></th>\n",
       "      <th></th>\n",
       "      <th></th>\n",
       "      <th></th>\n",
       "    </tr>\n",
       "  </thead>\n",
       "  <tbody>\n",
       "    <tr>\n",
       "      <th>7.0</th>\n",
       "      <td>0.0</td>\n",
       "      <td>0.0</td>\n",
       "      <td>0.0</td>\n",
       "      <td>0.0</td>\n",
       "      <td>0.0</td>\n",
       "      <td>0.0</td>\n",
       "      <td>0.0</td>\n",
       "      <td>0.0</td>\n",
       "      <td>0.0</td>\n",
       "      <td>0.0</td>\n",
       "      <td>0.0</td>\n",
       "    </tr>\n",
       "    <tr>\n",
       "      <th>Adultos que começaram a trabalhar entre 9 a 19 anos</th>\n",
       "      <td>4.0</td>\n",
       "      <td>1.0</td>\n",
       "      <td>0.0</td>\n",
       "      <td>13.0</td>\n",
       "      <td>0.0</td>\n",
       "      <td>0.0</td>\n",
       "      <td>0.0</td>\n",
       "      <td>0.0</td>\n",
       "      <td>1.0</td>\n",
       "      <td>22.0</td>\n",
       "      <td>40.0</td>\n",
       "    </tr>\n",
       "    <tr>\n",
       "      <th>Aposentados que começaram a trabalhar entre 20 a 29 anos</th>\n",
       "      <td>0.0</td>\n",
       "      <td>0.0</td>\n",
       "      <td>0.0</td>\n",
       "      <td>1.0</td>\n",
       "      <td>0.0</td>\n",
       "      <td>0.0</td>\n",
       "      <td>0.0</td>\n",
       "      <td>0.0</td>\n",
       "      <td>0.0</td>\n",
       "      <td>4.0</td>\n",
       "      <td>5.0</td>\n",
       "    </tr>\n",
       "    <tr>\n",
       "      <th>All</th>\n",
       "      <td>4.0</td>\n",
       "      <td>1.0</td>\n",
       "      <td>0.0</td>\n",
       "      <td>14.0</td>\n",
       "      <td>0.0</td>\n",
       "      <td>0.0</td>\n",
       "      <td>0.0</td>\n",
       "      <td>0.0</td>\n",
       "      <td>1.0</td>\n",
       "      <td>26.0</td>\n",
       "      <td>45.0</td>\n",
       "    </tr>\n",
       "  </tbody>\n",
       "</table>\n",
       "</div>"
      ],
      "text/plain": [
       "Curso mais elevado                                  1.0  2.0  3.0   4.0  10.0  \\\n",
       "Idade em que começou a trabalhar                                                \n",
       "7.0                                                 0.0  0.0  0.0   0.0   0.0   \n",
       "Adultos que começaram a trabalhar entre 9 a 19 ...  4.0  1.0  0.0  13.0   0.0   \n",
       "Aposentados que começaram a trabalhar entre 20 ...  0.0  0.0  0.0   1.0   0.0   \n",
       "All                                                 4.0  1.0  0.0  14.0   0.0   \n",
       "\n",
       "Curso mais elevado                                  11.0  12.0  13.0  \\\n",
       "Idade em que começou a trabalhar                                       \n",
       "7.0                                                  0.0   0.0   0.0   \n",
       "Adultos que começaram a trabalhar entre 9 a 19 ...   0.0   0.0   0.0   \n",
       "Aposentados que começaram a trabalhar entre 20 ...   0.0   0.0   0.0   \n",
       "All                                                  0.0   0.0   0.0   \n",
       "\n",
       "Curso mais elevado                                  Estudos abaixo do E.M.  \\\n",
       "Idade em que começou a trabalhar                                             \n",
       "7.0                                                                    0.0   \n",
       "Adultos que começaram a trabalhar entre 9 a 19 ...                     1.0   \n",
       "Aposentados que começaram a trabalhar entre 20 ...                     0.0   \n",
       "All                                                                    1.0   \n",
       "\n",
       "Curso mais elevado                                  Estudos acima do E.M. completo  \\\n",
       "Idade em que começou a trabalhar                                                     \n",
       "7.0                                                                            0.0   \n",
       "Adultos que começaram a trabalhar entre 9 a 19 ...                            22.0   \n",
       "Aposentados que começaram a trabalhar entre 20 ...                             4.0   \n",
       "All                                                                           26.0   \n",
       "\n",
       "Curso mais elevado                                   All  \n",
       "Idade em que começou a trabalhar                          \n",
       "7.0                                                  0.0  \n",
       "Adultos que começaram a trabalhar entre 9 a 19 ...  40.0  \n",
       "Aposentados que começaram a trabalhar entre 20 ...   5.0  \n",
       "All                                                 45.0  "
      ]
     },
     "execution_count": 104,
     "metadata": {},
     "output_type": "execute_result"
    }
   ],
   "source": [
    "#Tabela que mostra a idade em que a pessoa começou a trabalhar com o curso mais elevado que ela completou\n",
    "\n",
    "print('Tabela Cruzada por Idade em que começou a trabalhar vs Curso mais elevado (em %):')\n",
    "tab1=pd.crosstab(escolhas[\"Começou a trabalhar\"], escolhas[\"Curso mais elevado\"], margins=True,rownames=['Idade em que começou a trabalhar'], colnames=['Curso mais elevado'])\n",
    "tab12=(tab1/len(escolhas)*100).round(decimals=0)\n",
    "tab12"
   ]
  },
  {
   "cell_type": "code",
   "execution_count": 105,
   "metadata": {
    "collapsed": false
   },
   "outputs": [
    {
     "data": {
      "text/plain": [
       "<matplotlib.text.Text at 0x23c8d0067f0>"
      ]
     },
     "execution_count": 105,
     "metadata": {},
     "output_type": "execute_result"
    },
    {
     "data": {
      "image/png": "[encoded data removed]",
      "text/plain": [
       "<matplotlib.figure.Figure at 0x23c8cfef940>"
      ]
     },
     "metadata": {},
     "output_type": "display_data"
    }
   ],
   "source": [
    "#Grafico que mostra a tabela acima\n",
    "\n",
    "tabfim1 = tab12.iloc[-3:-1,-3:-1]\n",
    "plot = tabfim1.plot(kind='bar', figsize=(5, 8))\n",
    "plt.ylabel('Freq.Relativa (em%)')"
   ]
  },
  {
   "cell_type": "code",
   "execution_count": 106,
   "metadata": {
    "collapsed": false
   },
   "outputs": [
    {
     "name": "stdout",
     "output_type": "stream",
     "text": [
      "Tabela Cruzada por Idade em que começou a trabalhar vs Idade (em %):\n"
     ]
    },
    {
     "data": {
      "text/html": [
       "<div>\n",
       "<table border=\"1\" class=\"dataframe\">\n",
       "  <thead>\n",
       "    <tr style=\"text-align: right;\">\n",
       "      <th>Idade</th>\n",
       "      <th>10</th>\n",
       "      <th>11</th>\n",
       "      <th>12</th>\n",
       "      <th>13</th>\n",
       "      <th>14</th>\n",
       "      <th>15</th>\n",
       "      <th>16</th>\n",
       "      <th>17</th>\n",
       "      <th>18</th>\n",
       "      <th>19</th>\n",
       "      <th>20</th>\n",
       "      <th>21</th>\n",
       "      <th>22</th>\n",
       "      <th>103</th>\n",
       "      <th>118</th>\n",
       "      <th>120</th>\n",
       "      <th>Adultos (entre 23 e 50 anos)</th>\n",
       "      <th>Idosos (de 50 para cima)</th>\n",
       "      <th>All</th>\n",
       "    </tr>\n",
       "    <tr>\n",
       "      <th>Idade em que começou a trabalhar</th>\n",
       "      <th></th>\n",
       "      <th></th>\n",
       "      <th></th>\n",
       "      <th></th>\n",
       "      <th></th>\n",
       "      <th></th>\n",
       "      <th></th>\n",
       "      <th></th>\n",
       "      <th></th>\n",
       "      <th></th>\n",
       "      <th></th>\n",
       "      <th></th>\n",
       "      <th></th>\n",
       "      <th></th>\n",
       "      <th></th>\n",
       "      <th></th>\n",
       "      <th></th>\n",
       "      <th></th>\n",
       "      <th></th>\n",
       "    </tr>\n",
       "  </thead>\n",
       "  <tbody>\n",
       "    <tr>\n",
       "      <th>7.0</th>\n",
       "      <td>0.0</td>\n",
       "      <td>0.0</td>\n",
       "      <td>0.0</td>\n",
       "      <td>0.0</td>\n",
       "      <td>0.0</td>\n",
       "      <td>0.0</td>\n",
       "      <td>0.0</td>\n",
       "      <td>0.0</td>\n",
       "      <td>0.0</td>\n",
       "      <td>0.0</td>\n",
       "      <td>0.0</td>\n",
       "      <td>0.0</td>\n",
       "      <td>0.0</td>\n",
       "      <td>0.0</td>\n",
       "      <td>0.0</td>\n",
       "      <td>0.0</td>\n",
       "      <td>0.0</td>\n",
       "      <td>0.0</td>\n",
       "      <td>0.0</td>\n",
       "    </tr>\n",
       "    <tr>\n",
       "      <th>Adultos que começaram a trabalhar entre 9 a 19 anos</th>\n",
       "      <td>0.0</td>\n",
       "      <td>0.0</td>\n",
       "      <td>0.0</td>\n",
       "      <td>0.0</td>\n",
       "      <td>0.0</td>\n",
       "      <td>0.0</td>\n",
       "      <td>0.0</td>\n",
       "      <td>1.0</td>\n",
       "      <td>1.0</td>\n",
       "      <td>1.0</td>\n",
       "      <td>1.0</td>\n",
       "      <td>1.0</td>\n",
       "      <td>1.0</td>\n",
       "      <td>0.0</td>\n",
       "      <td>0.0</td>\n",
       "      <td>0.0</td>\n",
       "      <td>30.0</td>\n",
       "      <td>10.0</td>\n",
       "      <td>47.0</td>\n",
       "    </tr>\n",
       "    <tr>\n",
       "      <th>Aposentados que começaram a trabalhar entre 20 a 29 anos</th>\n",
       "      <td>0.0</td>\n",
       "      <td>0.0</td>\n",
       "      <td>0.0</td>\n",
       "      <td>0.0</td>\n",
       "      <td>0.0</td>\n",
       "      <td>0.0</td>\n",
       "      <td>0.0</td>\n",
       "      <td>0.0</td>\n",
       "      <td>0.0</td>\n",
       "      <td>0.0</td>\n",
       "      <td>0.0</td>\n",
       "      <td>0.0</td>\n",
       "      <td>0.0</td>\n",
       "      <td>0.0</td>\n",
       "      <td>0.0</td>\n",
       "      <td>0.0</td>\n",
       "      <td>4.0</td>\n",
       "      <td>1.0</td>\n",
       "      <td>5.0</td>\n",
       "    </tr>\n",
       "    <tr>\n",
       "      <th>All</th>\n",
       "      <td>0.0</td>\n",
       "      <td>0.0</td>\n",
       "      <td>0.0</td>\n",
       "      <td>0.0</td>\n",
       "      <td>0.0</td>\n",
       "      <td>0.0</td>\n",
       "      <td>0.0</td>\n",
       "      <td>1.0</td>\n",
       "      <td>1.0</td>\n",
       "      <td>1.0</td>\n",
       "      <td>1.0</td>\n",
       "      <td>1.0</td>\n",
       "      <td>1.0</td>\n",
       "      <td>0.0</td>\n",
       "      <td>0.0</td>\n",
       "      <td>0.0</td>\n",
       "      <td>34.0</td>\n",
       "      <td>11.0</td>\n",
       "      <td>52.0</td>\n",
       "    </tr>\n",
       "  </tbody>\n",
       "</table>\n",
       "</div>"
      ],
      "text/plain": [
       "Idade                                                10   11   12   13   14  \\\n",
       "Idade em que começou a trabalhar                                              \n",
       "7.0                                                 0.0  0.0  0.0  0.0  0.0   \n",
       "Adultos que começaram a trabalhar entre 9 a 19 ...  0.0  0.0  0.0  0.0  0.0   \n",
       "Aposentados que começaram a trabalhar entre 20 ...  0.0  0.0  0.0  0.0  0.0   \n",
       "All                                                 0.0  0.0  0.0  0.0  0.0   \n",
       "\n",
       "Idade                                                15   16   17   18   19  \\\n",
       "Idade em que começou a trabalhar                                              \n",
       "7.0                                                 0.0  0.0  0.0  0.0  0.0   \n",
       "Adultos que começaram a trabalhar entre 9 a 19 ...  0.0  0.0  1.0  1.0  1.0   \n",
       "Aposentados que começaram a trabalhar entre 20 ...  0.0  0.0  0.0  0.0  0.0   \n",
       "All                                                 0.0  0.0  1.0  1.0  1.0   \n",
       "\n",
       "Idade                                                20   21   22  103  118  \\\n",
       "Idade em que começou a trabalhar                                              \n",
       "7.0                                                 0.0  0.0  0.0  0.0  0.0   \n",
       "Adultos que começaram a trabalhar entre 9 a 19 ...  1.0  1.0  1.0  0.0  0.0   \n",
       "Aposentados que começaram a trabalhar entre 20 ...  0.0  0.0  0.0  0.0  0.0   \n",
       "All                                                 1.0  1.0  1.0  0.0  0.0   \n",
       "\n",
       "Idade                                               120  \\\n",
       "Idade em que começou a trabalhar                          \n",
       "7.0                                                 0.0   \n",
       "Adultos que começaram a trabalhar entre 9 a 19 ...  0.0   \n",
       "Aposentados que começaram a trabalhar entre 20 ...  0.0   \n",
       "All                                                 0.0   \n",
       "\n",
       "Idade                                               Adultos (entre 23 e 50 anos)  \\\n",
       "Idade em que começou a trabalhar                                                   \n",
       "7.0                                                                          0.0   \n",
       "Adultos que começaram a trabalhar entre 9 a 19 ...                          30.0   \n",
       "Aposentados que começaram a trabalhar entre 20 ...                           4.0   \n",
       "All                                                                         34.0   \n",
       "\n",
       "Idade                                               Idosos (de 50 para cima)  \\\n",
       "Idade em que começou a trabalhar                                               \n",
       "7.0                                                                      0.0   \n",
       "Adultos que começaram a trabalhar entre 9 a 19 ...                      10.0   \n",
       "Aposentados que começaram a trabalhar entre 20 ...                       1.0   \n",
       "All                                                                     11.0   \n",
       "\n",
       "Idade                                                All  \n",
       "Idade em que começou a trabalhar                          \n",
       "7.0                                                  0.0  \n",
       "Adultos que começaram a trabalhar entre 9 a 19 ...  47.0  \n",
       "Aposentados que começaram a trabalhar entre 20 ...   5.0  \n",
       "All                                                 52.0  "
      ]
     },
     "execution_count": 106,
     "metadata": {},
     "output_type": "execute_result"
    }
   ],
   "source": [
    "#Tabela que mostra a faixa de idade em que a pessoa começou a trabalhar com a sua idade atual (adulto ou aposentado)\n",
    "\n",
    "print('Tabela Cruzada por Idade em que começou a trabalhar vs Idade (em %):')\n",
    "tab2=pd.crosstab(escolhas[\"Começou a trabalhar\"], escolhas[\"Geração\"], margins=True,rownames=['Idade em que começou a trabalhar'], colnames=['Idade'])\n",
    "tab21=(tab2/len(escolhas)*100).round(decimals=0)\n",
    "tab21"
   ]
  },
  {
   "cell_type": "code",
   "execution_count": 107,
   "metadata": {
    "collapsed": false
   },
   "outputs": [
    {
     "data": {
      "text/plain": [
       "<matplotlib.text.Text at 0x23c8ec11e48>"
      ]
     },
     "execution_count": 107,
     "metadata": {},
     "output_type": "execute_result"
    },
    {
     "data": {
      "image/png": "[encoded data removed]",
      "text/plain": [
       "<matplotlib.figure.Figure at 0x23c8b527630>"
      ]
     },
     "metadata": {},
     "output_type": "display_data"
    }
   ],
   "source": [
    "#Grafico que mostra a tabela acima\n",
    "\n",
    "tabfim2 = tab21.iloc[-3:-1,-3:-1]\n",
    "plot = tabfim2.plot(kind='bar', figsize=(5, 8))\n",
    "plt.ylabel('Freq.Relativa (em%)')"
   ]
  },
  {
   "cell_type": "code",
   "execution_count": 108,
   "metadata": {
    "collapsed": false
   },
   "outputs": [
    {
     "name": "stdout",
     "output_type": "stream",
     "text": [
      "Tabela Cruzada por Curso mais elevado vs Idade (em %):\n"
     ]
    },
    {
     "data": {
      "text/html": [
       "<div>\n",
       "<table border=\"1\" class=\"dataframe\">\n",
       "  <thead>\n",
       "    <tr style=\"text-align: right;\">\n",
       "      <th>Idade</th>\n",
       "      <th>0</th>\n",
       "      <th>1</th>\n",
       "      <th>2</th>\n",
       "      <th>3</th>\n",
       "      <th>4</th>\n",
       "      <th>5</th>\n",
       "      <th>6</th>\n",
       "      <th>7</th>\n",
       "      <th>8</th>\n",
       "      <th>9</th>\n",
       "      <th>...</th>\n",
       "      <th>22</th>\n",
       "      <th>101</th>\n",
       "      <th>102</th>\n",
       "      <th>103</th>\n",
       "      <th>104</th>\n",
       "      <th>108</th>\n",
       "      <th>120</th>\n",
       "      <th>Adultos (entre 23 e 50 anos)</th>\n",
       "      <th>Idosos (de 50 para cima)</th>\n",
       "      <th>All</th>\n",
       "    </tr>\n",
       "    <tr>\n",
       "      <th>Curso mais elevado</th>\n",
       "      <th></th>\n",
       "      <th></th>\n",
       "      <th></th>\n",
       "      <th></th>\n",
       "      <th></th>\n",
       "      <th></th>\n",
       "      <th></th>\n",
       "      <th></th>\n",
       "      <th></th>\n",
       "      <th></th>\n",
       "      <th></th>\n",
       "      <th></th>\n",
       "      <th></th>\n",
       "      <th></th>\n",
       "      <th></th>\n",
       "      <th></th>\n",
       "      <th></th>\n",
       "      <th></th>\n",
       "      <th></th>\n",
       "      <th></th>\n",
       "      <th></th>\n",
       "    </tr>\n",
       "  </thead>\n",
       "  <tbody>\n",
       "    <tr>\n",
       "      <th>1.0</th>\n",
       "      <td>0.0</td>\n",
       "      <td>0.0</td>\n",
       "      <td>0.0</td>\n",
       "      <td>0.0</td>\n",
       "      <td>0.0</td>\n",
       "      <td>0.0</td>\n",
       "      <td>0.0</td>\n",
       "      <td>0.0</td>\n",
       "      <td>0.0</td>\n",
       "      <td>0.0</td>\n",
       "      <td>...</td>\n",
       "      <td>0.0</td>\n",
       "      <td>0.0</td>\n",
       "      <td>0.0</td>\n",
       "      <td>0.0</td>\n",
       "      <td>0.0</td>\n",
       "      <td>0.0</td>\n",
       "      <td>0.0</td>\n",
       "      <td>1.0</td>\n",
       "      <td>8.0</td>\n",
       "      <td>9.0</td>\n",
       "    </tr>\n",
       "    <tr>\n",
       "      <th>2.0</th>\n",
       "      <td>0.0</td>\n",
       "      <td>0.0</td>\n",
       "      <td>0.0</td>\n",
       "      <td>0.0</td>\n",
       "      <td>0.0</td>\n",
       "      <td>0.0</td>\n",
       "      <td>0.0</td>\n",
       "      <td>0.0</td>\n",
       "      <td>0.0</td>\n",
       "      <td>0.0</td>\n",
       "      <td>...</td>\n",
       "      <td>0.0</td>\n",
       "      <td>0.0</td>\n",
       "      <td>0.0</td>\n",
       "      <td>0.0</td>\n",
       "      <td>0.0</td>\n",
       "      <td>0.0</td>\n",
       "      <td>0.0</td>\n",
       "      <td>0.0</td>\n",
       "      <td>2.0</td>\n",
       "      <td>2.0</td>\n",
       "    </tr>\n",
       "    <tr>\n",
       "      <th>3.0</th>\n",
       "      <td>0.0</td>\n",
       "      <td>0.0</td>\n",
       "      <td>0.0</td>\n",
       "      <td>0.0</td>\n",
       "      <td>0.0</td>\n",
       "      <td>0.0</td>\n",
       "      <td>0.0</td>\n",
       "      <td>0.0</td>\n",
       "      <td>0.0</td>\n",
       "      <td>0.0</td>\n",
       "      <td>...</td>\n",
       "      <td>0.0</td>\n",
       "      <td>0.0</td>\n",
       "      <td>0.0</td>\n",
       "      <td>0.0</td>\n",
       "      <td>0.0</td>\n",
       "      <td>0.0</td>\n",
       "      <td>0.0</td>\n",
       "      <td>0.0</td>\n",
       "      <td>1.0</td>\n",
       "      <td>1.0</td>\n",
       "    </tr>\n",
       "    <tr>\n",
       "      <th>4.0</th>\n",
       "      <td>0.0</td>\n",
       "      <td>0.0</td>\n",
       "      <td>0.0</td>\n",
       "      <td>0.0</td>\n",
       "      <td>0.0</td>\n",
       "      <td>0.0</td>\n",
       "      <td>0.0</td>\n",
       "      <td>0.0</td>\n",
       "      <td>0.0</td>\n",
       "      <td>0.0</td>\n",
       "      <td>...</td>\n",
       "      <td>0.0</td>\n",
       "      <td>0.0</td>\n",
       "      <td>0.0</td>\n",
       "      <td>0.0</td>\n",
       "      <td>0.0</td>\n",
       "      <td>0.0</td>\n",
       "      <td>0.0</td>\n",
       "      <td>13.0</td>\n",
       "      <td>3.0</td>\n",
       "      <td>18.0</td>\n",
       "    </tr>\n",
       "    <tr>\n",
       "      <th>10.0</th>\n",
       "      <td>0.0</td>\n",
       "      <td>0.0</td>\n",
       "      <td>0.0</td>\n",
       "      <td>0.0</td>\n",
       "      <td>0.0</td>\n",
       "      <td>0.0</td>\n",
       "      <td>0.0</td>\n",
       "      <td>0.0</td>\n",
       "      <td>0.0</td>\n",
       "      <td>0.0</td>\n",
       "      <td>...</td>\n",
       "      <td>0.0</td>\n",
       "      <td>0.0</td>\n",
       "      <td>0.0</td>\n",
       "      <td>0.0</td>\n",
       "      <td>0.0</td>\n",
       "      <td>0.0</td>\n",
       "      <td>0.0</td>\n",
       "      <td>0.0</td>\n",
       "      <td>0.0</td>\n",
       "      <td>0.0</td>\n",
       "    </tr>\n",
       "    <tr>\n",
       "      <th>11.0</th>\n",
       "      <td>0.0</td>\n",
       "      <td>0.0</td>\n",
       "      <td>0.0</td>\n",
       "      <td>0.0</td>\n",
       "      <td>0.0</td>\n",
       "      <td>0.0</td>\n",
       "      <td>0.0</td>\n",
       "      <td>0.0</td>\n",
       "      <td>0.0</td>\n",
       "      <td>0.0</td>\n",
       "      <td>...</td>\n",
       "      <td>0.0</td>\n",
       "      <td>0.0</td>\n",
       "      <td>0.0</td>\n",
       "      <td>0.0</td>\n",
       "      <td>0.0</td>\n",
       "      <td>0.0</td>\n",
       "      <td>0.0</td>\n",
       "      <td>0.0</td>\n",
       "      <td>0.0</td>\n",
       "      <td>0.0</td>\n",
       "    </tr>\n",
       "    <tr>\n",
       "      <th>12.0</th>\n",
       "      <td>0.0</td>\n",
       "      <td>0.0</td>\n",
       "      <td>0.0</td>\n",
       "      <td>0.0</td>\n",
       "      <td>0.0</td>\n",
       "      <td>0.0</td>\n",
       "      <td>0.0</td>\n",
       "      <td>0.0</td>\n",
       "      <td>0.0</td>\n",
       "      <td>0.0</td>\n",
       "      <td>...</td>\n",
       "      <td>0.0</td>\n",
       "      <td>0.0</td>\n",
       "      <td>0.0</td>\n",
       "      <td>0.0</td>\n",
       "      <td>0.0</td>\n",
       "      <td>0.0</td>\n",
       "      <td>0.0</td>\n",
       "      <td>0.0</td>\n",
       "      <td>0.0</td>\n",
       "      <td>0.0</td>\n",
       "    </tr>\n",
       "    <tr>\n",
       "      <th>13.0</th>\n",
       "      <td>0.0</td>\n",
       "      <td>0.0</td>\n",
       "      <td>0.0</td>\n",
       "      <td>0.0</td>\n",
       "      <td>0.0</td>\n",
       "      <td>0.0</td>\n",
       "      <td>0.0</td>\n",
       "      <td>0.0</td>\n",
       "      <td>0.0</td>\n",
       "      <td>0.0</td>\n",
       "      <td>...</td>\n",
       "      <td>0.0</td>\n",
       "      <td>0.0</td>\n",
       "      <td>0.0</td>\n",
       "      <td>0.0</td>\n",
       "      <td>0.0</td>\n",
       "      <td>0.0</td>\n",
       "      <td>0.0</td>\n",
       "      <td>0.0</td>\n",
       "      <td>0.0</td>\n",
       "      <td>0.0</td>\n",
       "    </tr>\n",
       "    <tr>\n",
       "      <th>Estudos abaixo do E.M.</th>\n",
       "      <td>0.0</td>\n",
       "      <td>0.0</td>\n",
       "      <td>0.0</td>\n",
       "      <td>0.0</td>\n",
       "      <td>0.0</td>\n",
       "      <td>0.0</td>\n",
       "      <td>0.0</td>\n",
       "      <td>0.0</td>\n",
       "      <td>0.0</td>\n",
       "      <td>0.0</td>\n",
       "      <td>...</td>\n",
       "      <td>0.0</td>\n",
       "      <td>0.0</td>\n",
       "      <td>0.0</td>\n",
       "      <td>0.0</td>\n",
       "      <td>0.0</td>\n",
       "      <td>0.0</td>\n",
       "      <td>0.0</td>\n",
       "      <td>0.0</td>\n",
       "      <td>0.0</td>\n",
       "      <td>1.0</td>\n",
       "    </tr>\n",
       "    <tr>\n",
       "      <th>Estudos acima do E.M. completo</th>\n",
       "      <td>0.0</td>\n",
       "      <td>0.0</td>\n",
       "      <td>0.0</td>\n",
       "      <td>0.0</td>\n",
       "      <td>0.0</td>\n",
       "      <td>0.0</td>\n",
       "      <td>0.0</td>\n",
       "      <td>0.0</td>\n",
       "      <td>0.0</td>\n",
       "      <td>0.0</td>\n",
       "      <td>...</td>\n",
       "      <td>1.0</td>\n",
       "      <td>0.0</td>\n",
       "      <td>0.0</td>\n",
       "      <td>0.0</td>\n",
       "      <td>0.0</td>\n",
       "      <td>0.0</td>\n",
       "      <td>0.0</td>\n",
       "      <td>23.0</td>\n",
       "      <td>5.0</td>\n",
       "      <td>32.0</td>\n",
       "    </tr>\n",
       "    <tr>\n",
       "      <th>All</th>\n",
       "      <td>0.0</td>\n",
       "      <td>0.0</td>\n",
       "      <td>0.0</td>\n",
       "      <td>0.0</td>\n",
       "      <td>0.0</td>\n",
       "      <td>0.0</td>\n",
       "      <td>0.0</td>\n",
       "      <td>0.0</td>\n",
       "      <td>0.0</td>\n",
       "      <td>0.0</td>\n",
       "      <td>...</td>\n",
       "      <td>1.0</td>\n",
       "      <td>0.0</td>\n",
       "      <td>0.0</td>\n",
       "      <td>0.0</td>\n",
       "      <td>0.0</td>\n",
       "      <td>0.0</td>\n",
       "      <td>0.0</td>\n",
       "      <td>37.0</td>\n",
       "      <td>20.0</td>\n",
       "      <td>63.0</td>\n",
       "    </tr>\n",
       "  </tbody>\n",
       "</table>\n",
       "<p>11 rows × 32 columns</p>\n",
       "</div>"
      ],
      "text/plain": [
       "Idade                             0    1    2    3    4    5    6    7    8  \\\n",
       "Curso mais elevado                                                            \n",
       "1.0                             0.0  0.0  0.0  0.0  0.0  0.0  0.0  0.0  0.0   \n",
       "2.0                             0.0  0.0  0.0  0.0  0.0  0.0  0.0  0.0  0.0   \n",
       "3.0                             0.0  0.0  0.0  0.0  0.0  0.0  0.0  0.0  0.0   \n",
       "4.0                             0.0  0.0  0.0  0.0  0.0  0.0  0.0  0.0  0.0   \n",
       "10.0                            0.0  0.0  0.0  0.0  0.0  0.0  0.0  0.0  0.0   \n",
       "11.0                            0.0  0.0  0.0  0.0  0.0  0.0  0.0  0.0  0.0   \n",
       "12.0                            0.0  0.0  0.0  0.0  0.0  0.0  0.0  0.0  0.0   \n",
       "13.0                            0.0  0.0  0.0  0.0  0.0  0.0  0.0  0.0  0.0   \n",
       "Estudos abaixo do E.M.          0.0  0.0  0.0  0.0  0.0  0.0  0.0  0.0  0.0   \n",
       "Estudos acima do E.M. completo  0.0  0.0  0.0  0.0  0.0  0.0  0.0  0.0  0.0   \n",
       "All                             0.0  0.0  0.0  0.0  0.0  0.0  0.0  0.0  0.0   \n",
       "\n",
       "Idade                             9  ...    22  101  102  103  104  108  120  \\\n",
       "Curso mais elevado                   ...                                       \n",
       "1.0                             0.0  ...   0.0  0.0  0.0  0.0  0.0  0.0  0.0   \n",
       "2.0                             0.0  ...   0.0  0.0  0.0  0.0  0.0  0.0  0.0   \n",
       "3.0                             0.0  ...   0.0  0.0  0.0  0.0  0.0  0.0  0.0   \n",
       "4.0                             0.0  ...   0.0  0.0  0.0  0.0  0.0  0.0  0.0   \n",
       "10.0                            0.0  ...   0.0  0.0  0.0  0.0  0.0  0.0  0.0   \n",
       "11.0                            0.0  ...   0.0  0.0  0.0  0.0  0.0  0.0  0.0   \n",
       "12.0                            0.0  ...   0.0  0.0  0.0  0.0  0.0  0.0  0.0   \n",
       "13.0                            0.0  ...   0.0  0.0  0.0  0.0  0.0  0.0  0.0   \n",
       "Estudos abaixo do E.M.          0.0  ...   0.0  0.0  0.0  0.0  0.0  0.0  0.0   \n",
       "Estudos acima do E.M. completo  0.0  ...   1.0  0.0  0.0  0.0  0.0  0.0  0.0   \n",
       "All                             0.0  ...   1.0  0.0  0.0  0.0  0.0  0.0  0.0   \n",
       "\n",
       "Idade                           Adultos (entre 23 e 50 anos)  \\\n",
       "Curso mais elevado                                             \n",
       "1.0                                                      1.0   \n",
       "2.0                                                      0.0   \n",
       "3.0                                                      0.0   \n",
       "4.0                                                     13.0   \n",
       "10.0                                                     0.0   \n",
       "11.0                                                     0.0   \n",
       "12.0                                                     0.0   \n",
       "13.0                                                     0.0   \n",
       "Estudos abaixo do E.M.                                   0.0   \n",
       "Estudos acima do E.M. completo                          23.0   \n",
       "All                                                     37.0   \n",
       "\n",
       "Idade                           Idosos (de 50 para cima)   All  \n",
       "Curso mais elevado                                              \n",
       "1.0                                                  8.0   9.0  \n",
       "2.0                                                  2.0   2.0  \n",
       "3.0                                                  1.0   1.0  \n",
       "4.0                                                  3.0  18.0  \n",
       "10.0                                                 0.0   0.0  \n",
       "11.0                                                 0.0   0.0  \n",
       "12.0                                                 0.0   0.0  \n",
       "13.0                                                 0.0   0.0  \n",
       "Estudos abaixo do E.M.                               0.0   1.0  \n",
       "Estudos acima do E.M. completo                       5.0  32.0  \n",
       "All                                                 20.0  63.0  \n",
       "\n",
       "[11 rows x 32 columns]"
      ]
     },
     "execution_count": 108,
     "metadata": {},
     "output_type": "execute_result"
    }
   ],
   "source": [
    "#Tabela que mostra o curso mais elevado que a pessoa completou com a sua idade atual (adulto ou aposentado)\n",
    "\n",
    "\n",
    "print('Tabela Cruzada por Curso mais elevado vs Idade (em %):')\n",
    "tab3=pd.crosstab(escolhas[\"Curso mais elevado\"], escolhas[\"Geração\"], margins=True,rownames=['Curso mais elevado'], colnames=['Idade'])\n",
    "tab31=(tab3/len(escolhas)*100).round(decimals=0)\n",
    "tab31"
   ]
  },
  {
   "cell_type": "code",
   "execution_count": 109,
   "metadata": {
    "collapsed": false
   },
   "outputs": [
    {
     "data": {
      "text/plain": [
       "<matplotlib.text.Text at 0x23c8d05f0f0>"
      ]
     },
     "execution_count": 109,
     "metadata": {},
     "output_type": "execute_result"
    },
    {
     "data": {
      "image/png": "[encoded data removed]",
      "text/plain": [
       "<matplotlib.figure.Figure at 0x23c8ec76a58>"
      ]
     },
     "metadata": {},
     "output_type": "display_data"
    }
   ],
   "source": [
    "#Grafico que mostra a tabela acima\n",
    "\n",
    "tabfim3 = tab31.iloc[-3:-1,-3:-1]\n",
    "plot = tabfim3.plot(kind='bar', figsize=(5, 8))\n",
    "plt.ylabel('Freq.Relativa (em%)')"
   ]
  },
  {
   "cell_type": "code",
   "execution_count": 27,
   "metadata": {
    "collapsed": false
   },
   "outputs": [
    {
     "data": {
      "text/plain": [
       "<matplotlib.text.Text at 0x23c84f143c8>"
      ]
     },
     "execution_count": 27,
     "metadata": {},
     "output_type": "execute_result"
    },
    {
     "data": {
      "image/png": "[encoded data removed]",
      "text/plain": [
       "<matplotlib.figure.Figure at 0x23c8a1a6ba8>"
      ]
     },
     "metadata": {},
     "output_type": "display_data"
    }
   ],
   "source": [
    "escolhas[\"Idade\"].describe()\n",
    "\n",
    "faixa = arange(0,120,10)\n",
    "\n",
    "plot = escolhas[\"Idade\"].plot.hist(bins=faixa, normed=1, color=\"gray\")\n",
    "plt.title(\"Histograma de Idade\")\n",
    "plt.xlabel(\"Idade (Anos)\")\n",
    "plt.ylabel(\"Frequência relativa\")"
   ]
  },
  {
   "cell_type": "code",
   "execution_count": 28,
   "metadata": {
    "collapsed": false
   },
   "outputs": [
    {
     "name": "stderr",
     "output_type": "stream",
     "text": [
      "C:\\Users\\Bruno Dratcu\\Anaconda3\\lib\\site-packages\\numpy\\lib\\function_base.py:3403: RuntimeWarning: Invalid value encountered in median\n",
      "  RuntimeWarning)\n"
     ]
    },
    {
     "data": {
      "text/plain": [
       "<matplotlib.text.Text at 0x23c84efdf60>"
      ]
     },
     "execution_count": 28,
     "metadata": {},
     "output_type": "execute_result"
    },
    {
     "data": {
      "image/png": "[encoded data removed]",
      "text/plain": [
       "<matplotlib.figure.Figure at 0x23c884c39e8>"
      ]
     },
     "metadata": {},
     "output_type": "display_data"
    }
   ],
   "source": [
    "escolhas.Rendimento.describe()\n",
    "\n",
    "renda_total = arange(0,6000,200)\n",
    "\n",
    "\n",
    "plot = escolhas.Rendimento.plot.hist(bins=renda_total, normed=1, color=\"green\")\n",
    "plt.title(\"Histograma de Renda\")\n",
    "plt.xlabel(\"Renda Mensal (reais)\")\n",
    "plt.ylabel(\"Frequência relativa\")"
   ]
  },
  {
   "cell_type": "code",
   "execution_count": 29,
   "metadata": {
    "collapsed": false
   },
   "outputs": [
    {
     "name": "stderr",
     "output_type": "stream",
     "text": [
      "C:\\Users\\Bruno Dratcu\\Anaconda3\\lib\\site-packages\\numpy\\lib\\function_base.py:3403: RuntimeWarning: Invalid value encountered in median\n",
      "  RuntimeWarning)\n"
     ]
    },
    {
     "data": {
      "text/plain": [
       "<matplotlib.text.Text at 0x23c89b430f0>"
      ]
     },
     "execution_count": 29,
     "metadata": {},
     "output_type": "execute_result"
    },
    {
     "data": {
      "image/png": "[encoded data removed]",
      "text/plain": [
       "<matplotlib.figure.Figure at 0x23c9218f0b8>"
      ]
     },
     "metadata": {},
     "output_type": "display_data"
    }
   ],
   "source": [
    "\n",
    "\n",
    "escolhas[\"Horas habitualmente trabalhadas por semana\"].describe()\n",
    "\n",
    "horas = arange(0,24,1)\n",
    "\n",
    "plot = escolhas[\"Horas habitualmente trabalhadas por semana\"].plot.hist(bins=horas, normed=1, color=\"c\")\n",
    "plt.title(\"Horas trabalhadas por semana\")\n",
    "plt.xlabel(\"Renda Mensal (reais)\")\n",
    "plt.ylabel(\"Frequência relativa\")"
   ]
  },
  {
   "cell_type": "code",
   "execution_count": 30,
   "metadata": {
    "collapsed": false
   },
   "outputs": [
    {
     "name": "stderr",
     "output_type": "stream",
     "text": [
      "C:\\Users\\Bruno Dratcu\\Anaconda3\\lib\\site-packages\\numpy\\lib\\function_base.py:3403: RuntimeWarning: Invalid value encountered in median\n",
      "  RuntimeWarning)\n"
     ]
    },
    {
     "data": {
      "text/plain": [
       "<matplotlib.text.Text at 0x23c89f83c50>"
      ]
     },
     "execution_count": 30,
     "metadata": {},
     "output_type": "execute_result"
    },
    {
     "data": {
      "image/png": "[encoded data removed]",
      "text/plain": [
       "<matplotlib.figure.Figure at 0x23c8f312208>"
      ]
     },
     "metadata": {},
     "output_type": "display_data"
    }
   ],
   "source": [
    "escolhas[\"Faixa de idade em que começou a trabalhar\"].describe()\n",
    "\n",
    "faixa_idade= arange(0,120,1)\n",
    "\n",
    "plot = escolhas[\"Faixa de idade em que começou a trabalhar\"].plot.hist(bins=faixa_idade, normed=1, color=\"orange\")\n",
    "plt.title(\"Faixa de idade que começou a trabalhar\")\n",
    "plt.xlabel(\"Renda Mensal (reais)\")\n",
    "plt.ylabel(\"Frequência relativa\")"
   ]
  },
  {
   "cell_type": "markdown",
   "metadata": {
    "collapsed": false
   },
   "source": [
    "___\n",
    "## Conclusão "
   ]
  },
  {
   "cell_type": "markdown",
   "metadata": {
    "collapsed": true
   },
   "source": [
    "Descreva aqui suas conclusões!"
   ]
  },
  {
   "cell_type": "code",
   "execution_count": null,
   "metadata": {
    "collapsed": true
   },
   "outputs": [],
   "source": []
  }
 ],
 "metadata": {
  "anaconda-cloud": {},
  "kernelspec": {
   "display_name": "Python 3",
   "language": "python",
   "name": "python3"
  },
  "language_info": {
   "codemirror_mode": {
    "name": "ipython",
    "version": 3
   },
   "file_extension": ".py",
   "mimetype": "text/x-python",
   "name": "python",
   "nbconvert_exporter": "python",
   "pygments_lexer": "ipython3",
   "version": "3.5.2"
  }
 },
 "nbformat": 4,
 "nbformat_minor": 0
}
