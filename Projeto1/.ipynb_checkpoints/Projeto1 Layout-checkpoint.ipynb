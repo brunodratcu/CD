{
 "cells": [
  {
   "cell_type": "markdown",
   "metadata": {},
   "source": [
    "___\n",
    "# PROJETO 1"
   ]
  },
  {
   "cell_type": "markdown",
   "metadata": {},
   "source": [
    "## <font color='red'>Bruno Dratcu</font>\n",
    "___\n"
   ]
  },
  {
   "cell_type": "markdown",
   "metadata": {},
   "source": [
    "## <font color='blue'>\"Os aposentados estão melhores que o restante de população?\"</font>"
   ]
  },
  {
   "cell_type": "markdown",
   "metadata": {},
   "source": [
    "## Introdução\n",
    "\n",
    "Descreva aqui a motivação para escolha dos grupos e o que pretende analisar!\n",
    "\n",
    "\n"
   ]
  },
  {
   "cell_type": "markdown",
   "metadata": {},
   "source": [
    "##NOTAS:\n",
    "\n",
    "V0101;4 ;Ano de referência\n",
    "V0302;1 ;Sexo\n",
    "V3031;2 ;Dia de nascimento\n",
    "V3032;2 ;Mês de nascimento\n",
    "V3033;4 ;Ano de nascimento\n",
    "V8005;3 ;Idade do morador na data de referência\n",
    "V0401;1 ;Condição na unidade domiciliar\n",
    "V0402;1 ;Condição na família\n",
    "V4011;1 ;Estado civil\n",
    "V6002;1 ;Rede de ensino\n",
    "V6020;1 ;Área da rede pública de ensino\n",
    "V6003;2 ;Curso que frequenta\n",
    "V6030;1 ;Duração do ensino fundamental\n",
    "V6007;2 ;Curso mais elevado que frequentou anteriormente\n",
    "V6070;1 ;Duração do ensino fundamental que frequentou anteriormente\n",
    "V7122;12; Rendimento mensal em dinheiro que recebia normalmente no mês de referência no(s) trabalho(s) da semana de referência\n",
    "V7124;1 ;Código 4 - recebia normalmente rendimento mensal em produtos ou mercadorias no mês de referência no(s) trabalho(s) da semana de referência\n",
    "V7125;12; Rendimento mensal em valor dos produtos ou mercadorias que recebia normalmente no mês de referência no(s) trabalho(s) da semana de referência\n",
    "V7127;1 ;Código 6 - recebia normalmente rendimento mensal somente em benefícios no mês de referência no(s) trabalho(s) da semana de referência\n",
    "V0713; 2; Número de horas habitualmente trabalhadas por semana no(s) trabalho(s) da semana de referência\n",
    "V9005;1 ;Número de trabalhos que tinha na semana de referência\n",
    "V9008;2 ;Posição na ocupação no trabalho principal da semana de referência\n",
    "V9032;1 ;Setor do emprego no trabalho principal da semana de referência\n",
    "V9033;1 ;Área do emprego no trabalho principal da semana de referência\n",
    "V9034;1 ;Era militar do Exército, Marinha de Guerra ou Aeronáutica no trabalho principal da semana de referência\n",
    "V9035;1 ;Era funcionário público estatutário no trabalho principal da semana de referência\n",
    "V9036;1 ;Prestava serviço doméstico remunerado em mais de um domicílio, no mês de referência\n",
    "V9037;1 ;Exercia habitualmente esse trabalho pelo menos uma vez por semana\n",
    "V9058;2 ; Número de horas habitualmente trabalhadas por semana no trabalho principal da semana de referência\n",
    "V9891;1 ;Faixa de idade em que começou a trabalhar\n",
    "V9892;2 ; Idade com que começou a trabalhar\n",
    "V1151;2 ;Número de filhos tidos, do sexo masculino, ainda vivos que moravam em outro local qualquer\n",
    "V1152;2 ;Número de filhos tidos, do sexo feminino, ainda vivos que moravam em outro local qualquer\n",
    "V4801;2 ;Nível de ensino, duração do ensino fundamental e série que frequentavam (todos os estudantes)\n",
    "V4803;2 ;Anos de estudo (todas as pessoas)\n",
    "V4704;1 ;Condição de atividade\n",
    "V4706;2 ;Posição na ocupação no trabalho principal\n",
    "V4707;1 ;Horas habitualmente trabalhadas por semana em todos os trabalhos\n",
    "V4719;12; Rendimento mensal de todos os trabalhos para pessoas de 10 anos ou mais de idade\n",
    "V4721;12; Rendimento mensal domiciliar\n",
    "V4722;12; Rendimento mensal familiar \n",
    "V4742;12; Rendimento mensal domiciliar per capita \n",
    "V4750;12; Rendimento mensal familiar per capita \n"
   ]
  },
  {
   "cell_type": "markdown",
   "metadata": {},
   "source": [
    "___\n",
    "## Análise e Resultados"
   ]
  },
  {
   "cell_type": "code",
   "execution_count": 6,
   "metadata": {
    "collapsed": true
   },
   "outputs": [],
   "source": [
    "%matplotlib inline\n",
    "import pandas as pd\n",
    "import matplotlib.pyplot as plt\n",
    "import numpy as np\n",
    "import os"
   ]
  },
  {
   "cell_type": "code",
   "execution_count": 7,
   "metadata": {
    "collapsed": false
   },
   "outputs": [
    {
     "name": "stdout",
     "output_type": "stream",
     "text": [
      "Esperamos trabalhar no diretório\n",
      "C:\\Users\\Bruno Dratcu\\Desktop\\2o Semestre\\Ciencia dos Dados\\CD\\Projeto1\n"
     ]
    }
   ],
   "source": [
    "print('Esperamos trabalhar no diretório')\n",
    "print(os.getcwd())"
   ]
  },
  {
   "cell_type": "code",
   "execution_count": 8,
   "metadata": {
    "collapsed": false
   },
   "outputs": [],
   "source": [
    "\"\"\"Vamos ler a estrutura da PNAD como um dataframe.\n",
    "    São muitas colunas e precisamos usar a informação de tamanho para ler a PNAD de fato\n",
    "    como uma base de tamanho fixo\"\"\"\n",
    "estrutura = pd.read_table(\"pes_py.txt\", sep=\";\")"
   ]
  },
  {
   "cell_type": "code",
   "execution_count": 9,
   "metadata": {
    "collapsed": false,
    "scrolled": true
   },
   "outputs": [
    {
     "data": {
      "text/html": [
       "<div>\n",
       "<table border=\"1\" class=\"dataframe\">\n",
       "  <thead>\n",
       "    <tr style=\"text-align: right;\">\n",
       "      <th></th>\n",
       "      <th>Coluna</th>\n",
       "      <th>Tamanho</th>\n",
       "      <th>Título</th>\n",
       "    </tr>\n",
       "  </thead>\n",
       "  <tbody>\n",
       "    <tr>\n",
       "      <th>0</th>\n",
       "      <td>V0101</td>\n",
       "      <td>4</td>\n",
       "      <td>Ano de referência</td>\n",
       "    </tr>\n",
       "    <tr>\n",
       "      <th>1</th>\n",
       "      <td>UF</td>\n",
       "      <td>2</td>\n",
       "      <td>Unidade da Federação</td>\n",
       "    </tr>\n",
       "    <tr>\n",
       "      <th>2</th>\n",
       "      <td>V0102</td>\n",
       "      <td>8</td>\n",
       "      <td>Número de controle</td>\n",
       "    </tr>\n",
       "    <tr>\n",
       "      <th>3</th>\n",
       "      <td>V0103</td>\n",
       "      <td>3</td>\n",
       "      <td>Número de série</td>\n",
       "    </tr>\n",
       "    <tr>\n",
       "      <th>4</th>\n",
       "      <td>V0301</td>\n",
       "      <td>2</td>\n",
       "      <td>Número de ordem</td>\n",
       "    </tr>\n",
       "  </tbody>\n",
       "</table>\n",
       "</div>"
      ],
      "text/plain": [
       "  Coluna  Tamanho                Título\n",
       "0  V0101        4     Ano de referência\n",
       "1  UF           2  Unidade da Federação\n",
       "2  V0102        8    Número de controle\n",
       "3  V0103        3       Número de série\n",
       "4  V0301        2       Número de ordem"
      ]
     },
     "execution_count": 9,
     "metadata": {},
     "output_type": "execute_result"
    }
   ],
   "source": [
    "estrutura.head()"
   ]
  },
  {
   "cell_type": "code",
   "execution_count": 10,
   "metadata": {
    "collapsed": false
   },
   "outputs": [],
   "source": [
    "#pnad2014 = pd.read_fwf(\"PES2014.txt\", widths=estrutura.Tamanho, header=None)\n",
    "\n",
    "# Se quiser economizar espaço\n",
    "pnad2014 = pd.read_fwf(\"PES2014.zip\", widths=estrutura.Tamanho, header=None, compression=\"zip\")"
   ]
  },
  {
   "cell_type": "code",
   "execution_count": null,
   "metadata": {
    "collapsed": false
   },
   "outputs": [],
   "source": [
    "pnad2014"
   ]
  },
  {
   "cell_type": "code",
   "execution_count": null,
   "metadata": {
    "collapsed": false
   },
   "outputs": [],
   "source": [
    "pnad2014.columns=estrutura.Coluna"
   ]
  },
  {
   "cell_type": "code",
   "execution_count": null,
   "metadata": {
    "collapsed": false
   },
   "outputs": [],
   "source": [
    "pnad2014"
   ]
  },
  {
   "cell_type": "code",
   "execution_count": null,
   "metadata": {
    "collapsed": true
   },
   "outputs": [],
   "source": [
    "tabela = pd.DataFrame()\n",
    "\n",
    "tabela[\"\"] = \n",
    "tabela[\"\"] = \n",
    "tabela[\"\"] = \n",
    "tabela[\"\"] = \n",
    "tabela[\"\"] = \n",
    "tabela[\"\"] = \n",
    "tabela[\"\"] = \n",
    "tabela[\"\"] = \n",
    "\n",
    "n = len(tabela)\n",
    "tabela.X = pd.Series([\"\"]*n)\n",
    "\n",
    "tabela.X[(estrutura.Z = ) & (estrutura.Z = )] = \"\"\n",
    "tabela.X[(estrutura.Z = ) & (estrutura.Z = )] = \"\"\n",
    "tabela.X[(estrutura.Z = ) & (estrutura.Z = )] = \"\"\n",
    "tabela.X[(estrutura.Z = ) & (estrutura.Z = )] = \"\"\n",
    "tabela.X[(estrutura.Z = ) & (estrutura.Z = )] = \"\"\n",
    "\n",
    "tabela.X.value_counts()"
   ]
  },
  {
   "cell_type": "markdown",
   "metadata": {},
   "source": [
    "___"
   ]
  },
  {
   "cell_type": "markdown",
   "metadata": {
    "collapsed": false
   },
   "source": [
    "___\n",
    "## Conclusão "
   ]
  },
  {
   "cell_type": "markdown",
   "metadata": {
    "collapsed": true
   },
   "source": [
    "Descreva aqui suas conclusões!"
   ]
  },
  {
   "cell_type": "code",
   "execution_count": null,
   "metadata": {
    "collapsed": true
   },
   "outputs": [],
   "source": []
  }
 ],
 "metadata": {
  "anaconda-cloud": {},
  "kernelspec": {
   "display_name": "Python 3",
   "language": "python",
   "name": "python3"
  },
  "language_info": {
   "codemirror_mode": {
    "name": "ipython",
    "version": 3
   },
   "file_extension": ".py",
   "mimetype": "text/x-python",
   "name": "python",
   "nbconvert_exporter": "python",
   "pygments_lexer": "ipython3",
   "version": "3.5.2"
  }
 },
 "nbformat": 4,
 "nbformat_minor": 0
}
